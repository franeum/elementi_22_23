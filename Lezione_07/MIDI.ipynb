{
 "cells": [
  {
   "cell_type": "code",
   "execution_count": 3,
   "id": "1991e165",
   "metadata": {},
   "outputs": [],
   "source": [
    "import mido"
   ]
  },
  {
   "cell_type": "code",
   "execution_count": 2,
   "id": "c85edd19",
   "metadata": {},
   "outputs": [],
   "source": [
    "p = mido.get_output_names()[-1]\n",
    "port = mido.open_output(p)"
   ]
  },
  {
   "cell_type": "code",
   "execution_count": 7,
   "id": "8b0c6b1d",
   "metadata": {},
   "outputs": [],
   "source": [
    "mon = mido.Message('note_on', note=60, velocity=94)\n",
    "moff = mido.Message('note_off', note=60, velocity=0)"
   ]
  },
  {
   "cell_type": "code",
   "execution_count": 10,
   "id": "a8a11973",
   "metadata": {},
   "outputs": [],
   "source": [
    "port.send(mon)"
   ]
  },
  {
   "cell_type": "code",
   "execution_count": 11,
   "id": "8735ca95",
   "metadata": {},
   "outputs": [],
   "source": [
    "port.send(moff)"
   ]
  },
  {
   "cell_type": "code",
   "execution_count": 13,
   "id": "10aacca5",
   "metadata": {},
   "outputs": [],
   "source": [
    "import random\n",
    "import time"
   ]
  },
  {
   "cell_type": "code",
   "execution_count": 15,
   "id": "30e03174",
   "metadata": {},
   "outputs": [],
   "source": [
    "ch = 0\n",
    "for i in range(96):\n",
    "    note = random.randint(48,72)\n",
    "    note2 = random.randint(24,60)\n",
    "    vel = random.randint(40,120)\n",
    "    vel2 = random.randint(40,120)\n",
    "    m = mido.Message('note_on', channel=ch, note=note, velocity=vel)\n",
    "    m2 = mido.Message('note_on', channel=ch, note=note2, velocity=vel2)\n",
    "    port.send(m)\n",
    "    port.send(m2)\n",
    "    time.sleep(random.choice([0.25,0.125]))\n",
    "    m = mido.Message('note_on', channel=ch, note=note, velocity=0)\n",
    "    m2 = mido.Message('note_on', channel=ch, note=note2, velocity=0)\n",
    "    port.send(m)\n",
    "    port.send(m2)"
   ]
  },
  {
   "cell_type": "code",
   "execution_count": 31,
   "id": "5b7cf533",
   "metadata": {},
   "outputs": [],
   "source": []
  },
  {
   "cell_type": "code",
   "execution_count": null,
   "id": "3d94e7c5",
   "metadata": {},
   "outputs": [],
   "source": [
    "help(mido.Message)"
   ]
  },
  {
   "cell_type": "code",
   "execution_count": 4,
   "id": "4e7a0e79",
   "metadata": {},
   "outputs": [],
   "source": [
    "path = \"./aria988.mid\"\n",
    "mid = mido.MidiFile(path)"
   ]
  },
  {
   "cell_type": "code",
   "execution_count": 5,
   "id": "0319edac",
   "metadata": {},
   "outputs": [
    {
     "name": "stdout",
     "output_type": "stream",
     "text": [
      "MetaMessage('track_name', name='Johann Sebastian Bach', time=0)\n",
      "control_change channel=0 control=0 value=0 time=0\n",
      "program_change channel=0 program=6 time=0\n",
      "control_change channel=0 control=7 value=127 time=0\n",
      "control_change channel=0 control=10 value=0 time=0\n",
      "control_change channel=0 control=91 value=127 time=0\n",
      "MetaMessage('key_signature', key='G', time=0)\n",
      "note_on channel=0 note=79 velocity=112 time=0\n",
      "note_off channel=0 note=79 velocity=100 time=344\n",
      "note_on channel=0 note=79 velocity=112 time=52\n",
      "note_off channel=0 note=79 velocity=100 time=400\n",
      "note_on channel=0 note=81 velocity=112 time=16\n",
      "note_off channel=0 note=81 velocity=100 time=20\n",
      "note_on channel=0 note=79 velocity=112 time=4\n",
      "note_off channel=0 note=79 velocity=100 time=20\n",
      "note_on channel=0 note=81 velocity=112 time=4\n",
      "note_off channel=0 note=81 velocity=100 time=160\n",
      "note_on channel=0 note=83 velocity=112 time=48\n",
      "note_off channel=0 note=83 velocity=100 time=64\n",
      "note_on channel=0 note=81 velocity=112 time=20\n",
      "note_off channel=0 note=81 velocity=100 time=156\n",
      "note_on channel=0 note=79 velocity=112 time=36\n",
      "note_off channel=0 note=79 velocity=100 time=60\n",
      "note_on channel=0 note=78 velocity=112 time=4\n",
      "note_off channel=0 note=78 velocity=100 time=116\n",
      "note_on channel=0 note=76 velocity=112 time=20\n",
      "note_off channel=0 note=76 velocity=100 time=84\n",
      "note_on channel=0 note=74 velocity=112 time=4\n",
      "note_off channel=0 note=74 velocity=100 time=648\n",
      "note_on channel=0 note=67 velocity=112 time=52\n",
      "note_off channel=0 note=67 velocity=100 time=20\n",
      "note_on channel=0 note=66 velocity=112 time=4\n",
      "note_off channel=0 note=66 velocity=100 time=20\n",
      "note_on channel=0 note=67 velocity=112 time=4\n",
      "note_off channel=0 note=67 velocity=100 time=272\n",
      "note_on channel=0 note=69 velocity=112 time=52\n",
      "note_off channel=0 note=69 velocity=100 time=48\n",
      "note_on channel=0 note=67 velocity=112 time=4\n",
      "note_off channel=0 note=67 velocity=100 time=36\n",
      "note_on channel=0 note=66 velocity=112 time=4\n",
      "note_off channel=0 note=66 velocity=100 time=28\n",
      "note_on channel=0 note=67 velocity=112 time=4\n",
      "note_off channel=0 note=67 velocity=100 time=24\n",
      "note_on channel=0 note=69 velocity=112 time=4\n",
      "note_off channel=0 note=69 velocity=100 time=20\n",
      "note_on channel=0 note=67 velocity=112 time=4\n",
      "note_off channel=0 note=67 velocity=100 time=20\n",
      "note_on channel=0 note=69 velocity=112 time=4\n",
      "note_off channel=0 note=69 velocity=100 time=20\n",
      "note_on channel=0 note=67 velocity=112 time=4\n",
      "note_off channel=0 note=67 velocity=100 time=336\n",
      "note_on channel=0 note=66 velocity=112 time=0\n",
      "note_off channel=0 note=66 velocity=100 time=92\n",
      "note_on channel=0 note=67 velocity=112 time=4\n",
      "note_off channel=0 note=67 velocity=100 time=92\n",
      "note_on channel=0 note=69 velocity=112 time=16\n",
      "note_off channel=0 note=69 velocity=100 time=44\n",
      "note_on channel=0 note=67 velocity=112 time=4\n",
      "note_off channel=0 note=67 velocity=100 time=44\n",
      "note_on channel=0 note=66 velocity=112 time=4\n",
      "note_off channel=0 note=66 velocity=100 time=64\n",
      "note_on channel=0 note=67 velocity=112 time=32\n",
      "note_off channel=0 note=67 velocity=100 time=44\n",
      "note_on channel=0 note=66 velocity=112 time=4\n",
      "note_off channel=0 note=66 velocity=100 time=44\n",
      "note_on channel=0 note=64 velocity=112 time=4\n",
      "note_off channel=0 note=64 velocity=100 time=64\n",
      "note_on channel=0 note=64 velocity=112 time=32\n",
      "note_off channel=0 note=64 velocity=100 time=188\n",
      "note_on channel=0 note=62 velocity=112 time=4\n",
      "note_off channel=0 note=62 velocity=100 time=496\n",
      "note_on channel=0 note=74 velocity=112 time=76\n",
      "note_off channel=0 note=74 velocity=100 time=324\n",
      "note_on channel=0 note=74 velocity=112 time=52\n",
      "note_off channel=0 note=74 velocity=100 time=420\n",
      "note_on channel=0 note=76 velocity=112 time=4\n",
      "note_off channel=0 note=76 velocity=100 time=20\n",
      "note_on channel=0 note=74 velocity=112 time=4\n",
      "note_off channel=0 note=74 velocity=100 time=20\n",
      "note_on channel=0 note=76 velocity=112 time=4\n",
      "note_off channel=0 note=76 velocity=100 time=152\n",
      "note_on channel=0 note=77 velocity=112 time=48\n",
      "note_off channel=0 note=77 velocity=100 time=80\n",
      "note_on channel=0 note=76 velocity=112 time=16\n",
      "note_off channel=0 note=76 velocity=100 time=164\n",
      "note_on channel=0 note=74 velocity=112 time=28\n",
      "note_off channel=0 note=74 velocity=100 time=60\n",
      "note_on channel=0 note=72 velocity=112 time=4\n",
      "note_off channel=0 note=72 velocity=100 time=108\n",
      "note_on channel=0 note=71 velocity=112 time=20\n",
      "note_off channel=0 note=71 velocity=100 time=92\n",
      "note_on channel=0 note=69 velocity=112 time=4\n",
      "note_off channel=0 note=69 velocity=100 time=452\n",
      "note_on channel=0 note=79 velocity=112 time=48\n",
      "note_off channel=0 note=79 velocity=100 time=52\n",
      "note_on channel=0 note=78 velocity=112 time=4\n",
      "note_off channel=0 note=78 velocity=100 time=40\n",
      "note_on channel=0 note=76 velocity=112 time=4\n",
      "note_off channel=0 note=76 velocity=100 time=36\n",
      "note_on channel=0 note=78 velocity=112 time=4\n"
     ]
    }
   ],
   "source": [
    "for note in list(mid.tracks[1][:100]):\n",
    "    print(note)"
   ]
  },
  {
   "cell_type": "code",
   "execution_count": 6,
   "id": "0fdb114c",
   "metadata": {},
   "outputs": [],
   "source": [
    "p = mido.get_output_names()[-1]\n",
    "port = mido.open_output(p)"
   ]
  },
  {
   "cell_type": "code",
   "execution_count": null,
   "id": "ed49609b",
   "metadata": {},
   "outputs": [],
   "source": [
    "for message in mid.play():\n",
    "    port.send(message)\n",
    "    print(message)"
   ]
  },
  {
   "cell_type": "code",
   "execution_count": 2,
   "id": "045f034b",
   "metadata": {},
   "outputs": [
    {
     "data": {
      "text/plain": [
       "15"
      ]
     },
     "execution_count": 2,
     "metadata": {},
     "output_type": "execute_result"
    }
   ],
   "source": [
    "pippo"
   ]
  },
  {
   "cell_type": "code",
   "execution_count": null,
   "id": "d5a731ae",
   "metadata": {},
   "outputs": [],
   "source": []
  },
  {
   "cell_type": "code",
   "execution_count": null,
   "id": "a388208e",
   "metadata": {},
   "outputs": [],
   "source": []
  },
  {
   "cell_type": "code",
   "execution_count": null,
   "id": "f2a8ca3b",
   "metadata": {},
   "outputs": [],
   "source": [
    "port.close()"
   ]
  },
  {
   "cell_type": "code",
   "execution_count": 23,
   "id": "2ec97b39",
   "metadata": {},
   "outputs": [
    {
     "data": {
      "text/plain": [
       "Message('note_on', channel=3, note=60, velocity=94, time=0)"
      ]
     },
     "execution_count": 23,
     "metadata": {},
     "output_type": "execute_result"
    }
   ],
   "source": [
    "mido.parse([147,60,94])"
   ]
  }
 ],
 "metadata": {
  "kernelspec": {
   "display_name": "Python 3",
   "language": "python",
   "name": "python3"
  },
  "language_info": {
   "codemirror_mode": {
    "name": "ipython",
    "version": 3
   },
   "file_extension": ".py",
   "mimetype": "text/x-python",
   "name": "python",
   "nbconvert_exporter": "python",
   "pygments_lexer": "ipython3",
   "version": "3.9.7"
  }
 },
 "nbformat": 4,
 "nbformat_minor": 5
}
