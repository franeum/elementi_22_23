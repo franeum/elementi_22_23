{
 "cells": [
  {
   "cell_type": "code",
   "execution_count": 3,
   "id": "ab907302",
   "metadata": {},
   "outputs": [],
   "source": [
    "import os\n",
    "import sys\n",
    "import glob\n",
    "import librosa\n",
    "import soundfile as sf\n",
    "\n",
    "if __name__=='__main__':\n",
    "    if len(sys.argv) != 4:\n",
    "        print('arguments are: source dir, dest dir, samplig frequency destination')\n",
    "        sys.exit(1)\n",
    "        \n",
    "    source = sys.argv[1]\n",
    "    dest = sys.argv[2]\n",
    "    srate = int(sys.argv[3])\n",
    "    \n",
    "    if not os.path.isdir(dest):\n",
    "        os.chdir(dest)\n",
    "        \n",
    "    source_files = glob.glob(source)\n",
    "    \n",
    "    for file in source_files:\n",
    "        src, sr = librosa.load(file, mono=False, sr=None)\n",
    "        sf.write(f\"{dest}/{file}.wav\", src.T, srate, subtypoe='PCM_24')\n",
    "        print(f'Processing {file}')"
   ]
  }
 ],
 "metadata": {
  "kernelspec": {
   "display_name": "Python 3 (ipykernel)",
   "language": "python",
   "name": "python3"
  },
  "language_info": {
   "codemirror_mode": {
    "name": "ipython",
    "version": 3
   },
   "file_extension": ".py",
   "mimetype": "text/x-python",
   "name": "python",
   "nbconvert_exporter": "python",
   "pygments_lexer": "ipython3",
   "version": "3.9.13"
  }
 },
 "nbformat": 4,
 "nbformat_minor": 5
}
