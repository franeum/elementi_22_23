{
 "cells": [
  {
   "cell_type": "code",
   "execution_count": 1,
   "id": "1991e165",
   "metadata": {},
   "outputs": [],
   "source": [
    "import mido"
   ]
  },
  {
   "cell_type": "code",
   "execution_count": 2,
   "id": "c85edd19",
   "metadata": {},
   "outputs": [],
   "source": [
    "p = mido.get_output_names()[-1]\n",
    "port = mido.open_output(p)"
   ]
  },
  {
   "cell_type": "code",
   "execution_count": 3,
   "id": "8b0c6b1d",
   "metadata": {},
   "outputs": [],
   "source": [
    "mon = mido.Message('note_on', note=60, velocity=94)\n",
    "moff = mido.Message('note_off', note=60, velocity=0)"
   ]
  },
  {
   "cell_type": "code",
   "execution_count": 17,
   "id": "a8a11973",
   "metadata": {},
   "outputs": [],
   "source": [
    "port.send(mon)"
   ]
  },
  {
   "cell_type": "code",
   "execution_count": 18,
   "id": "8735ca95",
   "metadata": {},
   "outputs": [],
   "source": [
    "port.send(moff)"
   ]
  },
  {
   "cell_type": "code",
   "execution_count": 6,
   "id": "10aacca5",
   "metadata": {},
   "outputs": [],
   "source": [
    "import random\n",
    "import time"
   ]
  },
  {
   "cell_type": "code",
   "execution_count": 37,
   "id": "30e03174",
   "metadata": {},
   "outputs": [],
   "source": [
    "ch = 0\n",
    "for i in range(24):\n",
    "    note = random.randint(48,72)\n",
    "    note2 = random.randint(24,60)\n",
    "    vel = random.randint(40,120)\n",
    "    vel2 = random.randint(40,120)\n",
    "    m = mido.Message('note_on', channel=ch, note=note, velocity=vel)\n",
    "    m2 = mido.Message('note_on', channel=ch, note=note2, velocity=vel2)\n",
    "    port.send(m)\n",
    "    port.send(m2)\n",
    "    time.sleep(random.choice([0.25,0.125]))\n",
    "    m = mido.Message('note_on', channel=ch, note=note, velocity=0)\n",
    "    m2 = mido.Message('note_on', channel=ch, note=note2, velocity=0)\n",
    "    port.send(m)\n",
    "    port.send(m2)"
   ]
  },
  {
   "cell_type": "code",
   "execution_count": 31,
   "id": "5b7cf533",
   "metadata": {},
   "outputs": [],
   "source": []
  },
  {
   "cell_type": "code",
   "execution_count": null,
   "id": "3d94e7c5",
   "metadata": {},
   "outputs": [],
   "source": [
    "help(mido.Message)"
   ]
  },
  {
   "cell_type": "code",
   "execution_count": null,
   "id": "4e7a0e79",
   "metadata": {},
   "outputs": [],
   "source": [
    "path = \"./aria988.mid\"\n",
    "mid = mido.MidiFile(path)"
   ]
  },
  {
   "cell_type": "code",
   "execution_count": null,
   "id": "0319edac",
   "metadata": {},
   "outputs": [],
   "source": [
    "for note in list(mid.tracks[1][:100]):\n",
    "    print(note)"
   ]
  },
  {
   "cell_type": "code",
   "execution_count": null,
   "id": "0fdb114c",
   "metadata": {},
   "outputs": [],
   "source": [
    "p = mido.get_output_names()[-1]\n",
    "port = mido.open_output(p)"
   ]
  },
  {
   "cell_type": "code",
   "execution_count": null,
   "id": "ed49609b",
   "metadata": {},
   "outputs": [],
   "source": [
    "for message in mid.play():\n",
    "    port.send(message)\n",
    "    print(message)"
   ]
  },
  {
   "cell_type": "code",
   "execution_count": null,
   "id": "f2a8ca3b",
   "metadata": {},
   "outputs": [],
   "source": [
    "port.close()"
   ]
  },
  {
   "cell_type": "code",
   "execution_count": 23,
   "id": "2ec97b39",
   "metadata": {},
   "outputs": [
    {
     "data": {
      "text/plain": [
       "Message('note_on', channel=3, note=60, velocity=94, time=0)"
      ]
     },
     "execution_count": 23,
     "metadata": {},
     "output_type": "execute_result"
    }
   ],
   "source": [
    "mido.parse([147,60,94])"
   ]
  }
 ],
 "metadata": {
  "kernelspec": {
   "display_name": "Python 3 (ipykernel)",
   "language": "python",
   "name": "python3"
  },
  "language_info": {
   "codemirror_mode": {
    "name": "ipython",
    "version": 3
   },
   "file_extension": ".py",
   "mimetype": "text/x-python",
   "name": "python",
   "nbconvert_exporter": "python",
   "pygments_lexer": "ipython3",
   "version": "3.9.13"
  }
 },
 "nbformat": 4,
 "nbformat_minor": 5
}
